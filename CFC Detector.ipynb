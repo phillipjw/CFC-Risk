{
 "cells": [
  {
   "cell_type": "markdown",
   "metadata": {},
   "source": [
    "# CFC Risk Detector"
   ]
  },
  {
   "cell_type": "markdown",
   "metadata": {},
   "source": [
    "#### Info\n",
    "Developed as part of the Deloitte Tech Startup Challenge.\n",
    "Essentially has two componentes, simulated subsidiary generator and CFC compliance detector.\n",
    "The attributes of the simulated subsidiary generated are quasi arbitrary but set to meet the thresholds of the regulation itself.\n",
    "The CFC complicance detector also returns the amount of extra tax that would be paid in a post CFC circumstance.\n",
    "Our system only returns Option A CFC outcomes,  and as such operates on a subsidiary by subsidiary basis under the assumption that all subsiaries are 100% owned by their parent companies.\n",
    "### Future Directions\n",
    "CFC Option B outcomes require analyzing the larger org-chart of the corporation represented as a graph. Due to the time constraints of the challenge this was not performed. However, the following tool could still be used in such a case in which a search is conducted over the org-chart represented as a graph, whose nodes are subsidiaries and edges are % ownership with minor, \n",
    "\n",
    "\n",
    "\n"
   ]
  },
  {
   "cell_type": "code",
   "execution_count": 221,
   "metadata": {
    "collapsed": true
   },
   "outputs": [],
   "source": [
    "#Globals\n",
    "tax_rates = {'NL': .25,\n",
    "            'CM' : .01}\n",
    "\n",
    "ETR_t = .125\n",
    "SAE_t = 5\n",
    "income_t = .33\n",
    "\n",
    "\n",
    "\n",
    "\n",
    "\n",
    "class Subsidiary():\n",
    "    \n",
    "    def __init__(self, shares, capital, profit, earnings, activity, home, local, earnings_f, ETR):\n",
    "        self.shares = shares\n",
    "        self.home = home\n",
    "        self.capital = capital\n",
    "        self.profit = profit\n",
    "        self.earnings = earnings\n",
    "        self.activity = activity\n",
    "        self.CFC_violation = False\n",
    "        self.CFC = None\n",
    "        self.local = local\n",
    "        self.pre = earnings_f*tax_rates[self.local]\n",
    "        self.post = self.pre #add pre and post CFC\n",
    "        self.delta = 0 \n",
    "        self.earnings_f = earnings_f\n",
    "        self.ETR = ETR\n",
    "        \n",
    "\n",
    "#test = Subsidiary(shares, capital, profit, earnings, activity, home, local, earnings_f)\n",
    "\n",
    "        \n",
    "\n"
   ]
  },
  {
   "cell_type": "code",
   "execution_count": 1,
   "metadata": {
    "collapsed": true
   },
   "outputs": [],
   "source": [
    "import numpy as np\n",
    "\n",
    "\n",
    "def gen_subsidiary():\n",
    "    #draw type from multinomial\n",
    "    i = np.random.multinomial(1,[.90,.06,.04], size = 1)\n",
    "    i = np.where(i == 1)[1][0]\n",
    "    \n",
    "    \n",
    "    #if non CFC\n",
    "    if i == 0:\n",
    "        \n",
    "        \n",
    "        \n",
    "        \n",
    "        shares = np.random.normal(.6,.1)\n",
    "        capital = np.random.normal(.3,.05)\n",
    "        profit = np.random.normal(.25,.07)\n",
    "        ETR = .25\n",
    "        activity = np.random.normal(20,2)\n",
    "        \n",
    "        \n",
    "        earnings = .50\n",
    "        earnings_f = np.random.normal(100000,10000)\n",
    "        home = 'NL'\n",
    "        local = 'CM'\n",
    "        \n",
    "        \n",
    "    #if CFC\n",
    "    elif i == 1:\n",
    "        \n",
    "        shares = np.random.normal(.6,.1)\n",
    "        capital = np.random.normal(.6,.05)\n",
    "        profit = np.random.normal(.6,.07)\n",
    "        ETR = .10\n",
    "        activity = np.random.normal(20,2)\n",
    "        \n",
    "        \n",
    "        earnings = .25\n",
    "        earnings_f = np.random.normal(100000,10000)\n",
    "        home = 'NL'\n",
    "        local = 'CM'\n",
    "        \n",
    "    #if CFCviolator\n",
    "    else:\n",
    "        \n",
    "        shares = np.random.normal(.6,.1)\n",
    "        capital = np.random.normal(.6,.05)\n",
    "        profit = np.random.normal(.6,.07)\n",
    "        ETR = np.random.normal(.10,.02)\n",
    "        activity = np.random.normal(3,2)\n",
    "        \n",
    "        \n",
    "        earnings = .50\n",
    "        earnings_f = np.random.normal(100000,10000)\n",
    "        home = 'NL'\n",
    "        local = 'CM'\n",
    "        \n",
    "    \n",
    "    \n",
    "    subsidiary = Subsidiary(shares, capital, profit, earnings, activity, home, local, earnings_f, ETR)\n",
    "\n",
    "    return subsidiary\n",
    "    \n",
    "    \n",
    "\n",
    "    "
   ]
  },
  {
   "cell_type": "markdown",
   "metadata": {},
   "source": [
    "#### Generate Simulated Subsidiary Data"
   ]
  },
  {
   "cell_type": "code",
   "execution_count": 2,
   "metadata": {
    "collapsed": true
   },
   "outputs": [
    {
     "ename": "NameError",
     "evalue": "name 'decision_procedure' is not defined",
     "output_type": "error",
     "traceback": [
      "\u001b[0;31m---------------------------------------------------------------------------\u001b[0m",
      "\u001b[0;31mNameError\u001b[0m                                 Traceback (most recent call last)",
      "\u001b[0;32m<ipython-input-2-12c9945b88ec>\u001b[0m in \u001b[0;36m<module>\u001b[0;34m()\u001b[0m\n\u001b[1;32m      6\u001b[0m \u001b[0;34m\u001b[0m\u001b[0m\n\u001b[1;32m      7\u001b[0m \u001b[0;32mfor\u001b[0m \u001b[0mi\u001b[0m \u001b[0;32min\u001b[0m \u001b[0mrange\u001b[0m\u001b[0;34m(\u001b[0m\u001b[0msize\u001b[0m\u001b[0;34m)\u001b[0m\u001b[0;34m:\u001b[0m\u001b[0;34m\u001b[0m\u001b[0m\n\u001b[0;32m----> 8\u001b[0;31m     \u001b[0moutput\u001b[0m\u001b[0;34m[\u001b[0m\u001b[0mi\u001b[0m\u001b[0;34m,\u001b[0m\u001b[0;34m:\u001b[0m\u001b[0;34m]\u001b[0m \u001b[0;34m=\u001b[0m \u001b[0mdecision_procedure\u001b[0m\u001b[0;34m(\u001b[0m\u001b[0mgen_subsidiary\u001b[0m\u001b[0;34m(\u001b[0m\u001b[0;34m)\u001b[0m\u001b[0;34m)\u001b[0m\u001b[0;34m\u001b[0m\u001b[0m\n\u001b[0m\u001b[1;32m      9\u001b[0m \u001b[0;34m\u001b[0m\u001b[0m\n\u001b[1;32m     10\u001b[0m \u001b[0mnp\u001b[0m\u001b[0;34m.\u001b[0m\u001b[0msavetxt\u001b[0m\u001b[0;34m(\u001b[0m\u001b[0mos\u001b[0m\u001b[0;34m.\u001b[0m\u001b[0mgetcwd\u001b[0m\u001b[0;34m(\u001b[0m\u001b[0;34m)\u001b[0m\u001b[0;34m+\u001b[0m\u001b[0;34m'/output.csv'\u001b[0m\u001b[0;34m,\u001b[0m \u001b[0moutput\u001b[0m\u001b[0;34m,\u001b[0m \u001b[0mdelimiter\u001b[0m\u001b[0;34m=\u001b[0m\u001b[0;34m','\u001b[0m\u001b[0;34m)\u001b[0m\u001b[0;34m\u001b[0m\u001b[0m\n",
      "\u001b[0;31mNameError\u001b[0m: name 'decision_procedure' is not defined"
     ]
    }
   ],
   "source": [
    "import os\n",
    "\n",
    "size = 100\n",
    "output = np.zeros(shape = (size, 4))\n",
    "\n",
    "\n",
    "for i in range(size):\n",
    "    output[i,:] = decision_procedure(gen_subsidiary())\n",
    "\n",
    "np.savetxt(os.getcwd()+'/output.csv', output, delimiter=',')\n",
    "\n"
   ]
  },
  {
   "cell_type": "markdown",
   "metadata": {},
   "source": [
    "#### Check CFC Compliance"
   ]
  },
  {
   "cell_type": "code",
   "execution_count": 224,
   "metadata": {
    "collapsed": true
   },
   "outputs": [],
   "source": [
    "def CFC_checker(subsidiary):\n",
    "    '''\n",
    "    Function to check if CFC criteria met\n",
    "    #check if shares > 50%\n",
    "    #check if capital > 50%\n",
    "    #check if profit > 50%\n",
    "    '''\n",
    "    CFC = subsidiary.shares > .5 or subsidiary.capital > .5 or subsidiary.profit > .5 and ETR\n",
    "\n",
    "    CFC = CFC and subsidiary.ETR < ETR_t\n",
    "\n",
    "    subsidiary.CFC = CFC\n",
    "\n",
    "    #if all three are met subsidiary is CFC\n",
    "    return CFC\n",
    "\n",
    "def CFC_violation(subsidiary):\n",
    "    \n",
    "    '''\n",
    "    checks if the following criteria are met\n",
    "    Subsantial economic activity > threshold\n",
    "    Income by category > threshold\n",
    "    '''\n",
    "    \n",
    "    subsidiary.CFC_violation = activity > SAE_t and subsidiary.earnings > income_t\n",
    "    return subsidiary.CFC_violation\n",
    "\n",
    "def severity_check(subsidiary):\n",
    "    '''\n",
    "    Given a CFC violating company\n",
    "    whats the amount of tax pre and post CFC\n",
    "    '''\n",
    "    #only tax paid on passive income\n",
    "    \n",
    "    subsidiary.post = subsidiary.earnings_f*tax_rates[subsidiary.home]\n",
    "    subsidiary.delta = subsidiary.post - subsidiary.pre\n",
    "    \n",
    "def decision_procedure(subsidiary):\n",
    "    \n",
    "    #first check if CFC\n",
    "    if CFC_checker(subsidiary):\n",
    "        \n",
    "        #then check violation\n",
    "        if CFC_violation(subsidiary):\n",
    "            \n",
    "            #then get the difference in tax payed\n",
    "            severity_check(subsidiary)\n",
    "        else:\n",
    "            pass\n",
    "        \n",
    "            \n",
    "    else:\n",
    "        pass\n",
    "    \n",
    "    return (subsidiary.CFC, subsidiary.CFC_violation,\n",
    "           subsidiary.pre, subsidiary.post)\n",
    "        \n",
    "    \n",
    "    \n",
    "    \n",
    "    \n",
    "    \n",
    "    \n",
    "    \n",
    "\n",
    "    "
   ]
  },
  {
   "cell_type": "code",
   "execution_count": 92,
   "metadata": {
    "collapsed": true
   },
   "outputs": [
    {
     "name": "stdout",
     "output_type": "stream",
     "text": [
      "CFC Violator\n"
     ]
    },
    {
     "data": {
      "text/plain": [
       "(True, True, 1000.0, 25000.0)"
      ]
     },
     "execution_count": 92,
     "metadata": {},
     "output_type": "execute_result"
    }
   ],
   "source": []
  },
  {
   "cell_type": "code",
   "execution_count": 41,
   "metadata": {
    "collapsed": true
   },
   "outputs": [
    {
     "name": "stdout",
     "output_type": "stream",
     "text": [
      "Vertices of graph:\n",
      "['a', 'b', 'c', 'd', 'e', 'f']\n",
      "Edges of graph:\n",
      "[{'a', 'd'}, {'b', 'c'}, {'c'}, {'d', 'c'}, {'e', 'c'}]\n",
      "Add vertex:\n",
      "Vertices of graph:\n",
      "['a', 'b', 'c', 'd', 'e', 'f', 'z']\n",
      "Add an edge:\n",
      "Vertices of graph:\n",
      "['a', 'b', 'c', 'd', 'e', 'f', 'z']\n",
      "Edges of graph:\n",
      "[{'a', 'd'}, {'a', 'z'}, {'b', 'c'}, {'c'}, {'d', 'c'}, {'e', 'c'}]\n",
      "Adding an edge {\"x\",\"y\"} with new vertices:\n",
      "Vertices of graph:\n",
      "['a', 'b', 'c', 'd', 'e', 'f', 'z', 'y']\n",
      "Edges of graph:\n",
      "[{'a', 'd'}, {'a', 'z'}, {'b', 'c'}, {'c'}, {'d', 'c'}, {'e', 'c'}, {'y', 'x'}]\n"
     ]
    }
   ],
   "source": []
  },
  {
   "cell_type": "code",
   "execution_count": 37,
   "metadata": {
    "collapsed": true
   },
   "outputs": [],
   "source": []
  },
  {
   "cell_type": "code",
   "execution_count": 35,
   "metadata": {
    "collapsed": true
   },
   "outputs": [],
   "source": []
  },
  {
   "cell_type": "code",
   "execution_count": 39,
   "metadata": {
    "collapsed": true
   },
   "outputs": [
    {
     "name": "stdout",
     "output_type": "stream",
     "text": [
      "first\n",
      "second\n",
      "0\n",
      "second\n",
      "1\n",
      "second\n",
      "2\n",
      "first\n",
      "second\n",
      "0\n",
      "second\n",
      "1\n",
      "second\n",
      "2\n",
      "<__main__.Subsidiary object at 0x7efdeffdd630>\n",
      "<__main__.Subsidiary object at 0x7efdeffdd9b0>\n",
      "<__main__.Subsidiary object at 0x7efe04869ef0>\n",
      "<__main__.Subsidiary object at 0x7efe048694a8>\n",
      "<__main__.Subsidiary object at 0x7efe04869438>\n",
      "<__main__.Subsidiary object at 0x7efdeff803c8>\n",
      "<__main__.Subsidiary object at 0x7efdeff80c18>\n",
      "<__main__.Subsidiary object at 0x7efdeff80f28>\n"
     ]
    }
   ],
   "source": []
  }
 ],
 "metadata": {
  "kernelspec": {
   "display_name": "Python 3",
   "language": "python",
   "name": "python3"
  },
  "language_info": {
   "codemirror_mode": {
    "name": "ipython",
    "version": 3
   },
   "file_extension": ".py",
   "mimetype": "text/x-python",
   "name": "python",
   "nbconvert_exporter": "python",
   "pygments_lexer": "ipython3",
   "version": "3.6.2"
  }
 },
 "nbformat": 4,
 "nbformat_minor": 2
}
